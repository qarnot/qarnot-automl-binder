{
 "cells": [
  {
   "cell_type": "code",
   "execution_count": 12,
   "metadata": {},
   "outputs": [
    {
     "data": {
      "text/html": [
       "<script>\n",
       "    // AUTORUN ALL CELLS ON NOTEBOOK-LOAD!\n",
       "    require(\n",
       "        ['base/js/namespace', 'jquery'], \n",
       "        function(jupyter, $) {\n",
       "            $(jupyter.events).on(\"kernel_ready.Kernel\", function () {\n",
       "                console.log(\"Auto-running all cells-below...\");\n",
       "                jupyter.actions.call('jupyter-notebook:run-all-cells-below');\n",
       "                jupyter.actions.call('jupyter-notebook:save-notebook');\n",
       "            });\n",
       "        }\n",
       "    );\n",
       "</script>\n"
      ],
      "text/plain": [
       "<IPython.core.display.HTML object>"
      ]
     },
     "metadata": {},
     "output_type": "display_data"
    }
   ],
   "source": [
    "%%html\n",
    "<script>\n",
    "    // AUTORUN ALL CELLS ON NOTEBOOK-LOAD!\n",
    "    require(\n",
    "        ['base/js/namespace', 'jquery'], \n",
    "        function(jupyter, $) {\n",
    "            $(jupyter.events).on(\"kernel_ready.Kernel\", function () {\n",
    "                console.log(\"Auto-running all cells-below...\");\n",
    "                jupyter.actions.call('jupyter-notebook:run-all-cells-below');\n",
    "                jupyter.actions.call('jupyter-notebook:save-notebook');\n",
    "            });\n",
    "        }\n",
    "    );\n",
    "</script>"
   ]
  },
  {
   "cell_type": "code",
   "execution_count": null,
   "metadata": {},
   "outputs": [],
   "source": [
    "%%html\n",
    "<script>\n",
    "    $([IPython.events]).on(\"kernel_ready.Kernel\", function () {\n",
    "        $('div#header-container').hide();\n",
    "        $('div#maintoolbar').hide();\n",
    "    });\n",
    "</script>"
   ]
  },
  {
   "cell_type": "code",
   "execution_count": null,
   "metadata": {},
   "outputs": [],
   "source": [
    "%%html\n",
    "<script>\n",
    "    code_show=true; \n",
    "    function code_toggle() {\n",
    "        if (code_show){\n",
    "            $('div.input').hide();\n",
    "        } else {\n",
    "            $('div.input').show();\n",
    "        }\n",
    "        code_show = !code_show\n",
    "    } \n",
    "    $( document ).ready(code_toggle);\n",
    "</script>"
   ]
  },
  {
   "cell_type": "markdown",
   "metadata": {},
   "source": [
    "<img src=\"./qarnot_ligne.png\" \n",
    "     width=\"30%\" \n",
    "     align=right\n",
    "     alt=\"Dask logo\">\n",
    "     \n",
    "\n",
    "# AutoML on Qarnot\n",
    "\n",
    "## Add your Qarnot token"
   ]
  },
  {
   "cell_type": "code",
   "execution_count": null,
   "metadata": {},
   "outputs": [],
   "source": [
    "import os\n",
    "import io\n",
    "import pandas as pd\n",
    "import ipywidgets as widgets\n",
    "from tkinter import Tk, filedialog\n",
    "from IPython.display import clear_output, display, HTML"
   ]
  },
  {
   "cell_type": "code",
   "execution_count": null,
   "metadata": {},
   "outputs": [],
   "source": [
    "token = widgets.Password(\n",
    "    placeholder='Enter token',\n",
    "    description='Qarnot token:',\n",
    "    disabled=False\n",
    ")\n",
    "display(token)"
   ]
  },
  {
   "cell_type": "markdown",
   "metadata": {},
   "source": [
    "# Upload your data to binder "
   ]
  },
  {
   "cell_type": "code",
   "execution_count": null,
   "metadata": {},
   "outputs": [],
   "source": [
    "from IPython.display import Javascript, display\n",
    "\n",
    "file = widgets.FileUpload(\n",
    "    accept='.csv',  # Accepted file extension e.g. '.txt', '.pdf', 'image/*', 'image/*,.pdf'\n",
    "    multiple=False  # True to accept multiple files upload else False\n",
    ")\n",
    "display(file)\n",
    "\n",
    "def on_upload_change(change):\n",
    "    display(Javascript('IPython.notebook.execute_cell_range(IPython.notebook.get_selected_index()+1, IPython.notebook.ncells())'))\n",
    "\n",
    "file.observe(on_upload_change, names='_counter')"
   ]
  },
  {
   "cell_type": "markdown",
   "metadata": {},
   "source": [
    "## Specify Autosklearn training parameters\n",
    "\n",
    "* The AutoML parameters are divided into two categories, **Basic** and **Optional**. You can choose to set only the basic parameters for your task to work, the rest are optional.\n",
    "\n",
    "* Multiple values can be selected, for the lists of estimators and preprocessors to include/exclude, with <kbd>shift</kbd> and/or <kbd>ctrl</kbd> (or <kbd>command</kbd>) pressed and mouse clicks or arrow keys.\n",
    "\n",
    "    > Note that the include and exclude parameters are incompatible with each other. Meaning that only one should be set. For example, you cannot include the `Adaboost` estimator and exclude the `Decision Tree` and `Extra Trees` as they are already excluded by setting the first include parameter.\n",
    "\n",
    "* You can check out the [Auto-sklearn documentation](https://automl.github.io/auto-sklearn/master/manual.html) for more info."
   ]
  },
  {
   "cell_type": "code",
   "execution_count": null,
   "metadata": {},
   "outputs": [],
   "source": [
    "estimators = [\n",
    "    ('Default', 'None'),('Adaboost', 'adaboost'), ('Bernoulli Naive Bayes', 'bernoulli_nb'),\n",
    "    ('Decision Tree', 'decision_tree'), ('Extra Trees', 'extra_trees'), ('Gaussian Naive Bayes', 'gaussian_nb'),\n",
    "    ('Gradient Boosting', 'gradient_boosting'), ('K Nearest Neighbors', 'k_nearest_neighbors'), ('LDA', 'lda'),\n",
    "    ('Linear SVC', 'liblinear_svc'), ('SVM SVC', 'libsvm_svc'), ('MLP', 'mlp'), \n",
    "    ('Multinominal Naive Bayes', 'multinomial_nb'), ('Passive Aggressive', 'passive_aggressive'), \n",
    "    ('QDA', 'qda'), ('Random Forest', 'random_forest'), ('SGD', 'sgd')\n",
    "]\n",
    "\n",
    "preprocessors = [\n",
    "    ('Default', 'None'), ('Balancing', 'balancing'),('Extra Trees', 'extra_trees_preproc_for_classification'), \n",
    "    ('Fast ICA', 'fast_ica'), ('Feature Agglomeration','feature_agglomeration'), ('Kernel PCA', 'kernel_pca'),\n",
    "    ('Kitchen Sinks', 'kitchen_sinks'), ('Linear SVM preprocessor', 'liblinear_svc_preprocessor'),\n",
    "    ('No Preporcessing', 'no_preprocessor'), ('Nystroem Sampler', 'nystroem_sampler'), \n",
    "    ('One Hot Encoding', 'one_hot_encoding'), ('PCA', 'pca'), ('Polynomial', 'polynomial'),\n",
    "    ('Random Trees Embedding', 'random_trees_embedding'), ('Select Percentile', 'select_percentile'), \n",
    "    ('Select Rates', 'select_rates_classification')\n",
    "]"
   ]
  },
  {
   "cell_type": "code",
   "execution_count": null,
   "metadata": {},
   "outputs": [],
   "source": [
    "from ipywidgets import Layout, Button, Box, Label, BoundedIntText, IntSlider, Dropdown, SelectMultiple, Text\n",
    "\n",
    "form_item_layout = Layout(\n",
    "    display='flex',\n",
    "    flex_flow='row',\n",
    "    justify_content='space-between'\n",
    ")\n",
    "\n",
    "form_items_1 = [\n",
    "    Box([Label(value='Task name:'),\n",
    "        Text(value='automl-binder', placeholder='Enter task name')], layout=form_item_layout),\n",
    "    Box([Label(value='Input bucket name:'),\n",
    "        Text(value='automl-binder-in', placeholder='Enter input bucket name')], layout=form_item_layout),\n",
    "    Box([Label(value='Output bucket name:'),\n",
    "        Text(value='automl-binder-out', placeholder='Enter input bucket name')], layout=form_item_layout),\n",
    "    Box([Label(value='Number of nodes in cluster:'),\n",
    "        IntSlider(value=3,min=2,max=20,step=1)], layout=form_item_layout),\n",
    "    Box([Label(value='Total training time (min):'), \n",
    "         BoundedIntText(value=15, min=0)], layout=form_item_layout),\n",
    "    Box([Label(value='Per run training time (min):'), \n",
    "         BoundedIntText(value=5, min=0)], layout=form_item_layout)\n",
    "]\n",
    "\n",
    "form_items_2 = [\n",
    "    Box([Label(value='Number of cross validation folds:'),\n",
    "        IntSlider(value=3,min=2,max=10,step=1)], layout=form_item_layout),\n",
    "    Box([Label(value='Maximum ensemble size:'),\n",
    "        BoundedIntText(value=50, min=1)], layout=form_item_layout),\n",
    "    Box([Label(value='Ensemble nbest:'),\n",
    "        BoundedIntText(value=50, min=0)], layout=form_item_layout),\n",
    "    Box([Label(value='Include Estimators and Preprocessors:'),\n",
    "        SelectMultiple(options=estimators,value=['None']),\n",
    "        SelectMultiple(options=preprocessors,value=['None'])], layout=form_item_layout),\n",
    "    Box([Label(value='Exclude Estimators and Preprocessors:'),\n",
    "        SelectMultiple(options=estimators,value=['None']),\n",
    "        SelectMultiple(options=preprocessors,value=['None'])], layout=form_item_layout)\n",
    "]\n",
    "\n",
    "if len(file.value)==0:\n",
    "    target_col = Box([widgets.HTML(value = f\"<b style='color:orange;font-size:15px;'>{'Target column will be available once you have uploaded your file'}</b>\")],\n",
    "                    layout=form_item_layout)\n",
    "else :\n",
    "    # create input folder\n",
    "    ! mkdir -p input_binder/\n",
    "    \n",
    "    # write uploaded data file to input\n",
    "    data = pd.read_csv(io.BytesIO(file.value[list(file.value)[0]]['content']))\n",
    "    data.to_csv('input_binder/data.csv', index=False)\n",
    "    \n",
    "    target_col = Box([Label(value='Target column for classification:'),\n",
    "                      Dropdown(options=data.columns)], layout=form_item_layout)\n",
    "\n",
    "form_items_1.insert(0, target_col)\n",
    "\n",
    "form_1 = Box(form_items_1, layout=Layout(\n",
    "    display='flex',\n",
    "    flex_flow='column',\n",
    "    align_items='stretch',\n",
    "    width='100%'\n",
    "))\n",
    "\n",
    "form_2 = Box(form_items_2, layout=Layout(\n",
    "    display='flex',\n",
    "    flex_flow='column',\n",
    "    align_items='stretch',\n",
    "    width='100%'\n",
    "))\n",
    "\n",
    "tab = widgets.Tab()\n",
    "tab.children = [form_1, form_2]\n",
    "tab.set_title(index = 0, title = 'Basic Parameters')\n",
    "tab.set_title(index = 1, title = 'Optional Parameters')\n",
    "tab"
   ]
  },
  {
   "cell_type": "markdown",
   "metadata": {},
   "source": [
    "## Launch the Qarnot computation"
   ]
  },
  {
   "cell_type": "code",
   "execution_count": null,
   "metadata": {},
   "outputs": [],
   "source": [
    "from run_qarnot import submit_task\n",
    "from ipywidgets import Output\n",
    "\n",
    "button = Button(description=\"Start Training on Qarnot!\", layout=Layout(width='auto'))\n",
    "output = Output()\n",
    "display(button, output)\n",
    "\n",
    "def on_button_clicked(b):\n",
    "    \n",
    "    # Dictionary for data storage\n",
    "    param_dict = {\n",
    "        'token':'', 'target':'', 'task':'', 'in_bucket':'', 'out_bucket':'','nodes':'', 'total_time':'',\n",
    "        'per_run_time':'', 'cv':'', 'ensemble_size':'', 'ensemble_nbest':'', 'incl_estim':(),\n",
    "        'incl_preproc':(), 'excl_estim':(), 'excl_preproc':()\n",
    "    }\n",
    "    param_list = list(param_dict)\n",
    "    \n",
    "    # Retrieve data from form in dictionary\n",
    "    try:\n",
    "        param_dict['token'] = token.value\n",
    "        for _, (key, elem) in enumerate(zip(param_list[1:8], form_1.children)):\n",
    "            param_dict[key] = str(elem.children[1].value)\n",
    "        for _, (key, elem) in enumerate(zip(param_list[8:-4], form_2.children[:-2])):\n",
    "            param_dict[key] = str(elem.children[1].value)\n",
    "        for _, (key, elem) in enumerate(zip(param_list[-4:-2], form_2.children[-2].children[1:])):\n",
    "            param_dict[key] = elem.value\n",
    "        for _, (key, elem) in enumerate(zip(param_list[-2:], form_2.children[-1].children[1:])):\n",
    "            param_dict[key] = elem.value\n",
    "    except IndexError:\n",
    "        print(\"Some fields were not properly filled\")\n",
    "    \n",
    "    # Launch computation\n",
    "    output.clear_output()\n",
    "    with output:\n",
    "        ! mkdir -p logs/\n",
    "        submit_task(param_dict)\n",
    "        \n",
    "button.on_click(on_button_clicked)"
   ]
  },
  {
   "cell_type": "markdown",
   "metadata": {},
   "source": [
    "## Abort Task\n",
    "\n",
    "If you want to monitor the task's progress or abort it, you can do so from the [Console](https://console.qarnot.com/app/tasks)."
   ]
  },
  {
   "cell_type": "markdown",
   "metadata": {},
   "source": [
    "## Display outputs"
   ]
  },
  {
   "cell_type": "code",
   "execution_count": null,
   "metadata": {},
   "outputs": [],
   "source": [
    "from ipywidgets import HBox, VBox, Image\n",
    "\n",
    "output_button = Button(description=\"Display outputs\", layout=Layout(width='auto'))\n",
    "image_output = Output()\n",
    "display(output_button, image_output)\n",
    "\n",
    "def on_output_button_clicked(b):\n",
    "    \n",
    "    image_output.clear_output()\n",
    "    with image_output:\n",
    "        try:\n",
    "            vb = VBox()\n",
    "            title = widgets.HTML(value='<{size}>AutoML results</{size}>'.format(size='h3'))\n",
    "            vb.layout.align_items = 'center'\n",
    "            # Read images from file\n",
    "            img1 = open('outputs/confusion_matrix.png', 'rb').read()\n",
    "            img2 = open('outputs/acc_over_time.png', 'rb').read()\n",
    "            # Set image variable, image format and dimension.\n",
    "            wi1 = Image(value=img1, format='png', width=500, height=500)\n",
    "            wi2 = Image(value=img2, format='png', width=450, height=500)\n",
    "            # Side by side display\n",
    "            images = HBox([wi1, wi2])\n",
    "            vb.children = [title, images]\n",
    "            display(vb)\n",
    "\n",
    "        except FileNotFoundError:\n",
    "            print(\"Output files not available\")\n",
    "        \n",
    "output_button.on_click(on_output_button_clicked)"
   ]
  },
  {
   "cell_type": "markdown",
   "metadata": {},
   "source": [
    "## Download outputs"
   ]
  },
  {
   "cell_type": "code",
   "execution_count": null,
   "metadata": {},
   "outputs": [],
   "source": [
    "from shutil import make_archive\n",
    "from IPython.display import FileLink\n",
    "\n",
    "download_button = Button(description=\"Download outputs\", layout=Layout(width='auto'))\n",
    "download_output = Output()\n",
    "display(download_button, download_output)\n",
    "\n",
    "def on_download_button_clicked(b):\n",
    "    download_output.clear_output()\n",
    "    with download_output:\n",
    "        try:\n",
    "            print('Compressing outputs into .zip file...')\n",
    "            make_archive('output', 'zip', 'outputs/', verbose = 10)\n",
    "            link = FileLink(\n",
    "                path='output.zip', \n",
    "                result_html_prefix='Your output .zip file is ready ! \\\n",
    "                                    Click the following link to download it: '\n",
    "            )\n",
    "            display(link)\n",
    "            \n",
    "        except FileNotFoundError:\n",
    "            print(\"Output files not available\")\n",
    "        \n",
    "download_button.on_click(on_download_button_clicked)"
   ]
  }
 ],
 "metadata": {
  "kernelspec": {
   "display_name": "Python 3",
   "language": "python",
   "name": "python3"
  },
  "language_info": {
   "codemirror_mode": {
    "name": "ipython",
    "version": 3
   },
   "file_extension": ".py",
   "mimetype": "text/x-python",
   "name": "python",
   "nbconvert_exporter": "python",
   "pygments_lexer": "ipython3",
   "version": "3.8.5"
  }
 },
 "nbformat": 4,
 "nbformat_minor": 4
}
